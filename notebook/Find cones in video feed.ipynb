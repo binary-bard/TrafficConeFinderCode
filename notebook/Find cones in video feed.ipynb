{
 "cells": [
  {
   "cell_type": "code",
   "execution_count": null,
   "metadata": {
    "collapsed": true
   },
   "outputs": [],
   "source": [
    "import numpy as np\n",
    "import cv2, os, argparse, glob\n",
    "from cone_code import ConeFinder, ConeSeeker"
   ]
  },
  {
   "cell_type": "code",
   "execution_count": null,
   "metadata": {
    "collapsed": true
   },
   "outputs": [],
   "source": [
    "class Args(object):\n",
    "    # Set to True to print debug messages\n",
    "    debug = False\n",
    "    # Set image_dir to some value to test only images\n",
    "    # Set image_dir to '' to test with videos\n",
    "    image_dir = ''\n",
    "    # Use the video file number or the whole file name (/dev/videoN or captured video file)\n",
    "    # For realsense, add +2 since it seems to be the third among the video devices that get created\n",
    "    video_file = ''\n",
    "    # Set to output file to save the marked video to\n",
    "    out_file = ''\n",
    "    codec = '-1'\n",
    "\n",
    "args = Args()\n",
    "cf = ConeFinder()\n",
    "cs = ConeSeeker()"
   ]
  },
  {
   "cell_type": "code",
   "execution_count": null,
   "metadata": {
    "collapsed": true
   },
   "outputs": [],
   "source": [
    "def find_in_video(fileName):\n",
    "    cap = cv2.VideoCapture(fileName)\n",
    "    if(cap.isOpened() == False):\n",
    "        print(\"Error: Could not open video file %s. Using default device.\" % fileName)\n",
    "        cap = cv2.VideoCapture(0)\n",
    "\n",
    "    if(cap.isOpened() == False):\n",
    "      print(\"Could not open default video device\")\n",
    "      return\n",
    "\n",
    "    while True:\n",
    "        # Capture frame-by-frame\n",
    "        ret, frame = cap.read()\n",
    "\n",
    "        # Display the resulting frame\n",
    "        if(ret):\n",
    "            #print('---------------------------------')\n",
    "            poses, listOfCones = cf.find_cones(frame)\n",
    "            imghull = frame.copy()\n",
    "            count = len(poses)\n",
    "            if(count):\n",
    "                # Frame big 3 cones - they are sorted by area\n",
    "                cv2.drawContours(imghull, listOfCones[0:2], -1, (0, 255, 0), 3)\n",
    "                (cl, conf, sd, td) = cs.seek_cone(poses)\n",
    "                #frame should be 0\n",
    "                (ih, iw) = imghull.shape[:2]\n",
    "                pt1 = (int(iw/2 + cl.x - cl.w/2), ih - cl.y)\n",
    "                pt2 = (int(iw/2 + cl.x + cl.w/2), ih - cl.y - cl.h)\n",
    "                cv2.rectangle(imghull, pt1, pt2, (0,0,255), 3)\n",
    "                msg_str = '%.3f' % conf\n",
    "                cv2.putText(imghull, msg_str, pt1, cv2.FONT_HERSHEY_SIMPLEX,\n",
    "                            0.5, (255,0,0), 2, cv2.LINE_AA)\n",
    "        \n",
    "            #cv2.imshow('input', frame)\n",
    "            cv2.imshow('output', imghull)\n",
    "            #print('Found %d Cones' % count)\n",
    "\n",
    "        k = cv2.waitKey(5) & 0xff\n",
    "        if k == 27:\n",
    "            break\n",
    "        if k == ord(' '):\n",
    "            k = ord('.')\n",
    "            while k is not ord(' '):\n",
    "                k = cv2.waitKey(10) & 0xff\n",
    "\n",
    "    # When everything done, release the capture\n",
    "    cap.release()        \n",
    "    cv2.destroyAllWindows()"
   ]
  },
  {
   "cell_type": "code",
   "execution_count": null,
   "metadata": {
    "scrolled": true
   },
   "outputs": [],
   "source": [
    "args.debug = True\n",
    "\n",
    "# For Intel realsense, add +2 to video_file location for Linux\n",
    "# Running on Linux, use /dev/videoN instead where N is the number of device\n",
    "find_in_video('../videos/forDemo.avi')\n",
    "\n",
    "print(\"Done\")"
   ]
  },
  {
   "cell_type": "code",
   "execution_count": null,
   "metadata": {
    "collapsed": true
   },
   "outputs": [],
   "source": []
  }
 ],
 "metadata": {
  "anaconda-cloud": {},
  "kernelspec": {
   "display_name": "Python [conda root]",
   "language": "python",
   "name": "conda-root-py"
  },
  "language_info": {
   "codemirror_mode": {
    "name": "ipython",
    "version": 3
   },
   "file_extension": ".py",
   "mimetype": "text/x-python",
   "name": "python",
   "nbconvert_exporter": "python",
   "pygments_lexer": "ipython3",
   "version": "3.5.2"
  }
 },
 "nbformat": 4,
 "nbformat_minor": 1
}
